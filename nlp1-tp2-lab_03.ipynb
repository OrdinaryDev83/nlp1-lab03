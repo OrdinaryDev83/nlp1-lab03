{
 "cells": [
  {
   "cell_type": "markdown",
   "source": [
    "# Introduction to Natural Language Processing 01\n",
    "# Lab 03\n",
    "\n",
    "## Introduction\n",
    "\n",
    "_The project is a continuation of what we started on the second lab. You will train a logistic regression classifier on manually extracted features._"
   ],
   "metadata": {
    "cell_id": "ae74ef65323f4411936add1d53055515",
    "deepnote_cell_type": "markdown"
   }
  },
  {
   "cell_type": "markdown",
   "source": [
    "We need to import plotting, data management, machine learning and mathematic librairies."
   ],
   "metadata": {
    "cell_id": "132dbc536e534b59abbfa47b48197cc7",
    "deepnote_cell_type": "markdown"
   }
  },
  {
   "cell_type": "code",
   "source": [
    "from typing import Tuple, Any\n",
    "\n",
    "import numpy as np\n",
    "import matplotlib.pyplot as plt\n",
    "import pandas as pd\n",
    "import seaborn as sns\n",
    "from sklearn.model_selection import train_test_split\n",
    "from datasets import load_dataset\n",
    "\n",
    "import torch\n",
    "from torch import nn, Tensor\n",
    "\n",
    "sns.set_theme()\n",
    "%matplotlib inline"
   ],
   "metadata": {
    "cell_id": "072ac467a2a64bb588cefd27f3b817d6",
    "source_hash": "39b58278",
    "execution_start": 1680791568118,
    "execution_millis": 5269,
    "deepnote_to_be_reexecuted": false,
    "deepnote_cell_type": "code",
    "ExecuteTime": {
     "start_time": "2023-04-06T17:15:43.366137Z",
     "end_time": "2023-04-06T17:15:43.723122Z"
    }
   },
   "outputs": [],
   "execution_count": 30
  },
  {
   "cell_type": "markdown",
   "source": [
    "### Features"
   ],
   "metadata": {
    "cell_id": "0fa123b4eb624f159a4565891252ba0e",
    "deepnote_cell_type": "markdown"
   }
  },
  {
   "cell_type": "markdown",
   "source": [
    "_For every given text, we want to generate a vector with the features seen in class._\n",
    "\n",
    "_(6 points) Code the following features:_\n",
    "\n",
    "- _1 if \"no\" appears in the document, 0 otherwise._\n",
    "- _The count of first and second pronouns in the document._\n",
    "- _1 if \"!\" is in the document, 0 otherwise._\n",
    "- _Log(word count in the document)._\n",
    "- _Number of words in the document which are in the positive lexicon._\n",
    "- _Number of words in the document which are in the negative lexicon._\n",
    "- _[Bonus] Add another feature of your choice._"
   ],
   "metadata": {
    "cell_id": "eeae0f23e4574b49b484eb88e501d595",
    "deepnote_cell_type": "markdown"
   }
  },
  {
   "cell_type": "markdown",
   "source": [
    "In order to achieve this, we first need to apply some preprocessing over our data to ease the feature extraction."
   ],
   "metadata": {
    "cell_id": "f3377b8282514eb994359fe22b2f87cf",
    "deepnote_cell_type": "markdown"
   }
  },
  {
   "cell_type": "code",
   "source": [
    "from string import punctuation\n",
    "import re\n",
    "\n",
    "def preprocessing(data : str) -> str:\n",
    "    \"\"\"\n",
    "    Preprocess the data by removing punctuation, converting to lowercase and removing extra spaces\n",
    "    The function does not remove the \"-\" dash symbol\n",
    "\n",
    "    For example : son-in-law ≠ son in law\n",
    "\n",
    "    :param data: string data to preprocess \n",
    "    :return: preprocessed string data\n",
    "    \"\"\"\n",
    "    data = data.replace(\"<br />\", \"\")\n",
    "    toremove = punctuation.replace(\"-\", \"\").replace(\"!\", \"\")\n",
    "    translator = str.maketrans(toremove, ' ' * len(toremove))\n",
    "    res = data.lower().translate(translator).strip()\n",
    "    res = re.sub(r'\\s+', ' ', res)\n",
    "    return res"
   ],
   "metadata": {
    "cell_id": "d59b729cb6fe4d73990590a1e8a59f9e",
    "source_hash": "dfea648f",
    "execution_start": 1680791573393,
    "execution_millis": 49,
    "deepnote_to_be_reexecuted": false,
    "deepnote_cell_type": "code",
    "ExecuteTime": {
     "start_time": "2023-04-06T17:15:43.394197Z",
     "end_time": "2023-04-06T17:15:43.936187Z"
    }
   },
   "outputs": [],
   "execution_count": 31
  },
  {
   "cell_type": "markdown",
   "source": [
    "Then we need to have a dictionary that can give a \"sentiment\" value, VADER will do the trick."
   ],
   "metadata": {
    "cell_id": "806cb32d75864b0b9d2d7d40c856489c",
    "deepnote_cell_type": "markdown"
   }
  },
  {
   "cell_type": "code",
   "source": [
    "def lexicon_dict(path : str = \"vader_lexicon.txt\") -> dict:\n",
    "    \"\"\"\n",
    "    Open the vader_lexicon.txt file and construct the dictionary.\n",
    "    Implementation is inspired by the one in the vaderSentiment package.\n",
    "    \n",
    "    :return: Dictionary containing the words in the lexicon as keys and their sentiment as values.\n",
    "    \"\"\"\n",
    "    lex_dict = {}\n",
    "    with open(path, encoding='utf-8') as file:\n",
    "        content = file.read()\n",
    "\n",
    "        for line in content.rstrip('\\n').split('\\n'):\n",
    "            word, measure = line.strip().split('\\t')[0:2]\n",
    "            lex_dict[word] = float(measure)\n",
    "\n",
    "    return lex_dict\n"
   ],
   "metadata": {
    "cell_id": "95b987ff9d3e4f318e229b5e9b11fdbf",
    "source_hash": "a500c8e0",
    "execution_start": 1680791573441,
    "execution_millis": 1,
    "deepnote_to_be_reexecuted": false,
    "deepnote_cell_type": "code",
    "ExecuteTime": {
     "start_time": "2023-04-06T17:15:43.412758Z",
     "end_time": "2023-04-06T17:15:43.974899Z"
    }
   },
   "outputs": [],
   "execution_count": 32
  },
  {
   "cell_type": "markdown",
   "source": [
    "Now let's implement the features vector function, which takes a piece of text and returns it's feature vector. **We also added a bonus feature (\"!\" count)**."
   ],
   "metadata": {
    "cell_id": "ea1ed019b6aa474ca5387e3f977c21b5",
    "deepnote_cell_type": "markdown"
   }
  },
  {
   "cell_type": "code",
   "source": [
    "def features_vector(text : str, use_bonus : bool, lex_dict : dict) -> np.ndarray:\n",
    "    \"\"\"\n",
    "    Return the features vector of the text with each component representing the following features:\n",
    "    - 1 if \"no\" appears in the document, 0 otherwise.\n",
    "    - The count of first and second pronouns in the document.\n",
    "    - 1 if \"!\" is in the document, 0 otherwise.\n",
    "    - Log(word count in the document).\n",
    "    - Number of words in the document which are in the positive lexicon.\n",
    "    - Number of words in the document which are in the negative lexicon.\n",
    "\n",
    "    Assuming that basic preprocessing has been done on the text (punctuation removed and lowercase).\n",
    "\n",
    "    :param text: The text to extract the features from.\n",
    "    :param dict: A sentiment analysis lexicon \n",
    "    :return: A numpy array of shape (6,) containing the features.\n",
    "    \"\"\"\n",
    "    splitted_text = list(filter(lambda s : s != '', text.split()))\n",
    "\n",
    "    no_present = int(f' no ' in f' {text} ') # Faster than splitting\n",
    "    pronouns_count = sum([word in ['i', 'you'] for word in splitted_text])\n",
    "    exclamation_present = int(f'!' in f' {text} ')\n",
    "    log_word_count = np.log(len(splitted_text))\n",
    "\n",
    "    # check every word appereance in the lexicon and get its sentiment value\n",
    "    sentiment_array = np.vectorize(lambda x: lex_dict.get(x, 0.0))(text.split())\n",
    "    positive_count = np.sum(sentiment_array >= 0.05)\n",
    "    negative_count = np.sum(sentiment_array <= -0.05)\n",
    "    \n",
    "    if use_bonus: # Bonus feature\n",
    "        bonus_exclamation_count = text.count(\"!\")\n",
    "        return np.array([\n",
    "            no_present,\n",
    "            pronouns_count,\n",
    "            exclamation_present,\n",
    "            log_word_count,\n",
    "            positive_count,\n",
    "            negative_count,\n",
    "            bonus_exclamation_count])\n",
    "    \n",
    "    return np.array([\n",
    "        no_present,\n",
    "        pronouns_count,\n",
    "        exclamation_present,\n",
    "        log_word_count,\n",
    "        positive_count,\n",
    "        negative_count])"
   ],
   "metadata": {
    "cell_id": "2f2b04c1948448cb8bbc825d67d17066",
    "source_hash": "7cc532c9",
    "execution_start": 1680791573480,
    "execution_millis": 3,
    "deepnote_to_be_reexecuted": false,
    "deepnote_cell_type": "code",
    "ExecuteTime": {
     "start_time": "2023-04-06T17:15:43.426559Z",
     "end_time": "2023-04-06T17:15:44.013813Z"
    }
   },
   "outputs": [],
   "execution_count": 33
  },
  {
   "cell_type": "markdown",
   "source": [
    "Let's test it on a piece of example text"
   ],
   "metadata": {
    "cell_id": "03c63a81811345d49aa0112da35e94c0",
    "deepnote_cell_type": "markdown"
   }
  },
  {
   "cell_type": "code",
   "source": [
    "text = \"I loved this excellent movie\"\n",
    "text = preprocessing(text)"
   ],
   "metadata": {
    "cell_id": "92f1374fd4344851946dbc3963c4bb61",
    "source_hash": "bdf9ee01",
    "execution_start": 1680791573481,
    "execution_millis": 2,
    "deepnote_to_be_reexecuted": false,
    "deepnote_cell_type": "code",
    "ExecuteTime": {
     "start_time": "2023-04-06T17:15:43.440849Z",
     "end_time": "2023-04-06T17:15:44.015621Z"
    }
   },
   "outputs": [],
   "execution_count": 34
  },
  {
   "cell_type": "markdown",
   "source": [
    "We get the following feature vector (bonus ignored)"
   ],
   "metadata": {
    "cell_id": "d748f2875c9f4b27b44f6f07b4038d0a",
    "formattedRanges": [],
    "deepnote_cell_type": "text-cell-p"
   }
  },
  {
   "cell_type": "code",
   "source": [
    "features_vector(text, False, lexicon_dict())"
   ],
   "metadata": {
    "cell_id": "6b75d01c8c1d4b76840ecc463848b405",
    "source_hash": "b9ae4ced",
    "execution_start": 1680791573482,
    "execution_millis": 12,
    "deepnote_to_be_reexecuted": false,
    "deepnote_cell_type": "code",
    "ExecuteTime": {
     "start_time": "2023-04-06T17:15:43.470168Z",
     "end_time": "2023-04-06T17:15:44.062622Z"
    }
   },
   "outputs": [
    {
     "data": {
      "text/plain": "array([0.        , 1.        , 0.        , 1.60943791, 2.        ,\n       0.        ])"
     },
     "execution_count": 35,
     "metadata": {},
     "output_type": "execute_result"
    }
   ],
   "execution_count": 35
  },
  {
   "cell_type": "markdown",
   "source": [
    "## Logistic regression classifier"
   ],
   "metadata": {
    "cell_id": "e886af672e744ae784e26290632be965",
    "deepnote_cell_type": "markdown"
   }
  },
  {
   "cell_type": "markdown",
   "source": [
    "We need to freeze the random seed to get this experiment to be deterministic."
   ],
   "metadata": {
    "cell_id": "dce95a18ac9e491186b2bdd9a11336d3",
    "deepnote_cell_type": "markdown"
   }
  },
  {
   "cell_type": "code",
   "source": [
    "RANDOM_SEED = 42\n",
    "np.random.seed(seed=RANDOM_SEED) # Set the seed for reproducibility\n",
    "torch.manual_seed(RANDOM_SEED)"
   ],
   "metadata": {
    "cell_id": "13cf50fadf504500a4682635a8e62d88",
    "source_hash": "4c5d331a",
    "execution_start": 1680791573546,
    "execution_millis": 2,
    "deepnote_to_be_reexecuted": false,
    "deepnote_cell_type": "code",
    "ExecuteTime": {
     "start_time": "2023-04-06T17:15:43.494569Z",
     "end_time": "2023-04-06T17:15:44.097316Z"
    }
   },
   "outputs": [
    {
     "data": {
      "text/plain": "<torch._C.Generator at 0x7fde8e15a330>"
     },
     "execution_count": 36,
     "metadata": {},
     "output_type": "execute_result"
    }
   ],
   "execution_count": 36
  },
  {
   "cell_type": "markdown",
   "source": [
    "_(3 points) Adapt the code by adding your feature extractor and train a classifier._\n",
    "\n",
    "_For training, don't use the test set as validation. Instead, split the training set into a training and a validation set (use 10 to 20% of the training set as validation)._\n"
   ],
   "metadata": {
    "cell_id": "6c2f139ccc4b4d56b3153f66f02d970c",
    "deepnote_cell_type": "markdown"
   }
  },
  {
   "cell_type": "markdown",
   "source": [
    "Here is a function to get the preprocessed dataset"
   ],
   "metadata": {
    "cell_id": "66874191bc474a138c773d12b98d66e8",
    "deepnote_cell_type": "markdown"
   }
  },
  {
   "cell_type": "code",
   "source": [
    "def get_processed_data(dataset_name : str, split : str) -> tuple[torch.Tensor, torch.Tensor]:\n",
    "    \"\"\"\n",
    "    Load a split from the hugging face dataset and preprocess it.\n",
    "    \n",
    "    :param dataset_name: Name of a hugging face dataset (e.g. \"imdb\")\n",
    "    :param split: The split to load (e.g. \"train\" or \"test\")\n",
    "    :return: A tuple containing the feature vectors and the labels as torch tensors.\n",
    "    \"\"\"\n",
    "    \n",
    "    # Load data with hugging face dataset\n",
    "    train_data = load_dataset('imdb', split=split)\n",
    "    train_data = pd.DataFrame(train_data)\n",
    "   \n",
    "    # Apply preprocessing\n",
    "    train_data[\"text\"].apply(preprocessing)\n",
    "\n",
    "    lex_dict = lexicon_dict()\n",
    "\n",
    "    # Transform to feature vector\n",
    "    X = torch.tensor(np.vectorize(\n",
    "        lambda text: features_vector(text, False, lex_dict), signature='()->(n)')(np.array(train_data[\"text\"].tolist())),\n",
    "         dtype=torch.float32)\n",
    "    y = torch.tensor(train_data['label'].to_numpy(), dtype=torch.float32).reshape(-1, 1)\n",
    "\n",
    "    return X, y"
   ],
   "metadata": {
    "cell_id": "2dfcdae4a1f54bbe84389c3eb65e10e8",
    "source_hash": "4de43806",
    "execution_start": 1680791573546,
    "execution_millis": 2,
    "deepnote_to_be_reexecuted": false,
    "deepnote_cell_type": "code",
    "ExecuteTime": {
     "start_time": "2023-04-06T17:15:43.506042Z",
     "end_time": "2023-04-06T17:15:44.141536Z"
    }
   },
   "outputs": [],
   "execution_count": 37
  },
  {
   "cell_type": "markdown",
   "source": [
    "Next, let's save them into variables."
   ],
   "metadata": {
    "cell_id": "b1bdd9fb73ec401387fcea4394129320",
    "formattedRanges": [],
    "deepnote_cell_type": "text-cell-p"
   }
  },
  {
   "cell_type": "code",
   "source": [
    "X_train, y_train = get_processed_data(\"imdb\", \"train\")"
   ],
   "metadata": {
    "cell_id": "68b83cd4f7844d58b7cd585e1d406c84",
    "source_hash": "f5f84461",
    "execution_start": 1680791573546,
    "execution_millis": 13269,
    "deepnote_to_be_reexecuted": false,
    "deepnote_cell_type": "code",
    "ExecuteTime": {
     "start_time": "2023-04-06T17:15:43.513237Z",
     "end_time": "2023-04-06T17:16:03.491234Z"
    }
   },
   "outputs": [
    {
     "name": "stderr",
     "output_type": "stream",
     "text": [
      "Found cached dataset imdb (/home/h/.cache/huggingface/datasets/imdb/plain_text/1.0.0/d613c88cf8fa3bab83b4ded3713f1f74830d1100e171db75bbddb80b3345c9c0)\n"
     ]
    }
   ],
   "execution_count": 38
  },
  {
   "cell_type": "code",
   "source": [
    "X_test, y_test = get_processed_data(\"imdb\", \"test\")"
   ],
   "metadata": {
    "cell_id": "bda5496c467a40b7b4154fb6541293cd",
    "source_hash": "50e55bf7",
    "execution_start": 1680791586816,
    "execution_millis": 13416,
    "deepnote_to_be_reexecuted": false,
    "deepnote_cell_type": "code",
    "ExecuteTime": {
     "start_time": "2023-04-06T17:16:03.490890Z",
     "end_time": "2023-04-06T17:16:15.350871Z"
    }
   },
   "outputs": [
    {
     "name": "stderr",
     "output_type": "stream",
     "text": [
      "Found cached dataset imdb (/home/h/.cache/huggingface/datasets/imdb/plain_text/1.0.0/d613c88cf8fa3bab83b4ded3713f1f74830d1100e171db75bbddb80b3345c9c0)\n"
     ]
    }
   ],
   "execution_count": 39
  },
  {
   "cell_type": "code",
   "source": [
    "X_train, X_valid, y_train, y_valid = train_test_split(\n",
    "    X_train,\n",
    "    y_train,\n",
    "    test_size=0.2,\n",
    "    stratify=y_train,\n",
    "    random_state=RANDOM_SEED,\n",
    ")"
   ],
   "metadata": {
    "cell_id": "712b699da8d0421ba1459c2e991f8e94",
    "source_hash": "55e67894",
    "execution_start": 1680791600274,
    "execution_millis": 305,
    "deepnote_to_be_reexecuted": false,
    "deepnote_cell_type": "code",
    "ExecuteTime": {
     "start_time": "2023-04-06T17:16:15.356167Z",
     "end_time": "2023-04-06T17:16:15.549182Z"
    }
   },
   "outputs": [],
   "execution_count": 40
  },
  {
   "cell_type": "markdown",
   "source": [
    "Here is the LogisticRegression class, inspired from the teacher's implentation, that has been adapted to our needs. It allows us to instantiate a model that can be manipulated easily."
   ],
   "metadata": {
    "cell_id": "c2ea12c25a594f82980b309e5a522358",
    "deepnote_cell_type": "markdown"
   }
  },
  {
   "cell_type": "code",
   "source": [
    "class LogisticRegression(nn.Module):\n",
    "    \"\"\"A logistic regression implementation\"\"\"\n",
    "\n",
    "    def __init__(self, input_dim: int, nb_classes: int) -> None:\n",
    "        \"\"\"\n",
    "        Args:\n",
    "            input_dim: the dimension of the input features.\n",
    "            nb_classes: the number of classes to predict.\n",
    "        \"\"\"\n",
    "        super().__init__()\n",
    "        # output_layer = nn.Sigmoid() if nb_classes == 1 else nn.Softmax()\n",
    "        self.classifier = torch.nn.Sequential(\n",
    "            nn.Linear(input_dim, nb_classes),\n",
    "            # output_layer,\n",
    "        )\n",
    "\n",
    "    def forward(self, x: torch.Tensor) -> torch.Tensor:\n",
    "        \"\"\"\n",
    "        Args:\n",
    "            x: the input tensor.\n",
    "        Returns:\n",
    "            The output of activation function.\n",
    "        \"\"\"\n",
    "        return self.classifier(x)"
   ],
   "metadata": {
    "cell_id": "6cdb4c7e8be5423cab1755636326db74",
    "source_hash": "1563bac",
    "execution_start": 1680791600577,
    "execution_millis": 2,
    "deepnote_to_be_reexecuted": false,
    "deepnote_cell_type": "code",
    "ExecuteTime": {
     "start_time": "2023-04-06T17:16:15.556485Z",
     "end_time": "2023-04-06T17:16:15.672666Z"
    }
   },
   "outputs": [],
   "execution_count": 41
  },
  {
   "cell_type": "markdown",
   "source": [
    "We instantiate our model and choose it's loss function and optimizer, we use the same as the teacher's implementation on binary classification."
   ],
   "metadata": {
    "cell_id": "25206c67e77845f08d78585e2eaf38d1",
    "formattedRanges": [],
    "deepnote_cell_type": "text-cell-p"
   }
  },
  {
   "cell_type": "code",
   "source": [
    "model = LogisticRegression(X_train.shape[1], 1)\n",
    "criterion = nn.BCEWithLogitsLoss()\n",
    "# Stochastic gradient descent\n",
    "optimizer = torch.optim.SGD(model.parameters(), lr=0.01, weight_decay=0.5)"
   ],
   "metadata": {
    "cell_id": "3d8d8c9acd824a3d8f0a67920b9fd48c",
    "source_hash": "31936198",
    "execution_start": 1680791600578,
    "execution_millis": 2,
    "deepnote_to_be_reexecuted": false,
    "deepnote_cell_type": "code",
    "ExecuteTime": {
     "start_time": "2023-04-06T17:16:15.601068Z",
     "end_time": "2023-04-06T17:16:15.674241Z"
    }
   },
   "outputs": [],
   "execution_count": 42
  },
  {
   "cell_type": "markdown",
   "source": [
    "Now, let's define a train function, and trigger the training for 1000 epochs. The training function will output its loss each 100 epochs."
   ],
   "metadata": {
    "cell_id": "6cdc0e2353a8422199f741a8cb2f7eb0",
    "formattedRanges": [],
    "deepnote_cell_type": "text-cell-p"
   }
  },
  {
   "cell_type": "code",
   "source": [
    "%time\n",
    "\n",
    "n_epochs = 1000\n",
    "\n",
    "def train(verbose=True):\n",
    "    \"\"\"\n",
    "    Performs gradient descent using the specified optimizer\n",
    "    and loss criterion.\n",
    "\n",
    "    Args:\n",
    "        verbose (bool, optional): If True, prints the training\n",
    "        loss for every 100th epoch. Default is True.\n",
    "\n",
    "    Returns:\n",
    "        train_losses (list): A list of training losses for each epoch.\n",
    "        test_losses (list): A list of validation losses for each epoch.\n",
    "    \"\"\"\n",
    "    train_losses = []\n",
    "    test_losses = []\n",
    "\n",
    "    # Training loop\n",
    "    for epoch in range(n_epochs):\n",
    "        # Setting all gradients to zero.\n",
    "        optimizer.zero_grad()\n",
    "\n",
    "        # Sending the whole training set through the model.\n",
    "        predictions = model(X_train)\n",
    "        # Computing the loss.\n",
    "        loss = criterion(predictions, y_train)\n",
    "        train_losses.append(loss.item())\n",
    "        if verbose and epoch % 100 == 0:\n",
    "            print(loss)\n",
    "        # Computing the gradients and gradient descent.\n",
    "        loss.backward()\n",
    "        optimizer.step()\n",
    "\n",
    "        # When computing the validation loss, we do not want to update the weights.\n",
    "        # torch.no_grad tells PyTorch to not save the necessary data used for\n",
    "        # gradient descent.\n",
    "        with torch.no_grad():\n",
    "            predictions = model(X_valid)\n",
    "            loss = criterion(predictions, y_valid)\n",
    "            test_losses.append(loss)\n",
    "    return train_losses, test_losses\n",
    "\n",
    "# Keeping an eye on the losses\n",
    "train_losses, test_losses = train()\n"
   ],
   "metadata": {
    "cell_id": "5a8d3c9dd93849f28c5fca1439da477d",
    "source_hash": "b28feb66",
    "execution_start": 1680791600578,
    "execution_millis": 1955,
    "deepnote_to_be_reexecuted": false,
    "deepnote_cell_type": "code",
    "ExecuteTime": {
     "start_time": "2023-04-06T17:16:15.601439Z",
     "end_time": "2023-04-06T17:16:21.766440Z"
    }
   },
   "outputs": [
    {
     "name": "stdout",
     "output_type": "stream",
     "text": [
      "CPU times: user 14 µs, sys: 1 µs, total: 15 µs\n",
      "Wall time: 27.9 µs\n",
      "tensor(1.2303, grad_fn=<BinaryCrossEntropyWithLogitsBackward0>)\n",
      "tensor(0.6148, grad_fn=<BinaryCrossEntropyWithLogitsBackward0>)\n",
      "tensor(0.6066, grad_fn=<BinaryCrossEntropyWithLogitsBackward0>)\n",
      "tensor(0.6054, grad_fn=<BinaryCrossEntropyWithLogitsBackward0>)\n",
      "tensor(0.6050, grad_fn=<BinaryCrossEntropyWithLogitsBackward0>)\n",
      "tensor(0.6048, grad_fn=<BinaryCrossEntropyWithLogitsBackward0>)\n",
      "tensor(0.6047, grad_fn=<BinaryCrossEntropyWithLogitsBackward0>)\n",
      "tensor(0.6046, grad_fn=<BinaryCrossEntropyWithLogitsBackward0>)\n",
      "tensor(0.6046, grad_fn=<BinaryCrossEntropyWithLogitsBackward0>)\n",
      "tensor(0.6045, grad_fn=<BinaryCrossEntropyWithLogitsBackward0>)\n"
     ]
    }
   ],
   "execution_count": 43
  },
  {
   "cell_type": "markdown",
   "source": [
    "_(1 point) Evaluate your classifier in terms of accuracy for the training, validation, and test set._"
   ],
   "metadata": {
    "cell_id": "970667eac8354d359950d2c75c9ba00a",
    "deepnote_cell_type": "markdown"
   }
  },
  {
   "cell_type": "markdown",
   "source": [
    "We need to evaluate the trained model on each dataset, first let's view the training curves for the training and test losses."
   ],
   "metadata": {
    "cell_id": "07c79f9f084f4fb08e0ad49a949f0298",
    "formattedRanges": [],
    "deepnote_cell_type": "text-cell-p"
   }
  },
  {
   "cell_type": "code",
   "source": [
    "# Checking the losses\n",
    "plt.plot(np.arange(len(train_losses)), train_losses, label=\"Training loss\")\n",
    "plt.plot(np.arange(len(test_losses)), test_losses, label=\"Test loss\")\n",
    "plt.legend()"
   ],
   "metadata": {
    "cell_id": "82d4acf7f42645768cfafdb81f6148a2",
    "source_hash": "e3a11fe4",
    "execution_start": 1680791602507,
    "execution_millis": 25,
    "deepnote_to_be_reexecuted": false,
    "deepnote_cell_type": "code",
    "ExecuteTime": {
     "start_time": "2023-04-06T17:16:21.780349Z",
     "end_time": "2023-04-06T17:16:22.176272Z"
    }
   },
   "outputs": [
    {
     "data": {
      "text/plain": "<matplotlib.legend.Legend at 0x7fde05974650>"
     },
     "execution_count": 44,
     "metadata": {},
     "output_type": "execute_result"
    },
    {
     "data": {
      "text/plain": "<Figure size 640x480 with 1 Axes>",
      "image/png": "[encoded data removed]"
     },
     "metadata": {},
     "output_type": "display_data"
    }
   ],
   "execution_count": 44
  },
  {
   "cell_type": "markdown",
   "source": [
    "Besides, we implement a test function, which outputs the accuracy for the train, test and validation datasets, using the trained model. Next we trigger it."
   ],
   "metadata": {
    "cell_id": "d766b58f8cfb48cf9194947a5d27685d",
    "formattedRanges": [],
    "deepnote_cell_type": "text-cell-p"
   }
  },
  {
   "cell_type": "code",
   "source": [
    "def test():\n",
    "    \"\"\"\n",
    "    Runs a test on train, valid and test datasets.\n",
    "    \"\"\"\n",
    "    # Computing the accuracy for our 3 splits.\n",
    "    with torch.no_grad():\n",
    "        p_train = torch.sigmoid(model(X_train))\n",
    "        p_train = np.round(p_train.numpy())\n",
    "        training_accuracy = np.mean(p_train == y_train.numpy())\n",
    "        p_valid = torch.sigmoid(model(X_valid))\n",
    "        p_valid = np.round(p_valid.numpy())\n",
    "        valid_accuracy = np.mean(p_valid == y_valid.numpy())\n",
    "        p_test = torch.sigmoid(model(X_test))\n",
    "        p_test = np.round(p_test.numpy())\n",
    "        test_accuracy = np.mean(p_test == y_test.numpy())\n",
    "    \n",
    "    print(training_accuracy, valid_accuracy, test_accuracy)\n",
    "\n",
    "\n",
    "test()"
   ],
   "metadata": {
    "cell_id": "f64b56ffa32a414b8f149abac7782488",
    "source_hash": "39c60087",
    "execution_start": 1680792278649,
    "execution_millis": 4,
    "deepnote_to_be_reexecuted": false,
    "deepnote_cell_type": "code",
    "ExecuteTime": {
     "start_time": "2023-04-06T17:16:22.177935Z",
     "end_time": "2023-04-06T17:16:22.183967Z"
    }
   },
   "outputs": [
    {
     "name": "stdout",
     "output_type": "stream",
     "text": [
      "0.6934 0.6838 0.69552\n"
     ]
    }
   ],
   "execution_count": 45
  },
  {
   "cell_type": "markdown",
   "source": [
    "The test accuracy, which is the most important, is drawing near 70% accuracy."
   ],
   "metadata": {
    "cell_id": "9ee0d638915c497cb1c3553c81725ca3",
    "formattedRanges": [],
    "deepnote_cell_type": "text-cell-p"
   }
  },
  {
   "cell_type": "markdown",
   "source": [
    "_(1 point) Look at the weights of your classifier. Which features seems to play most for both classes?_"
   ],
   "metadata": {
    "cell_id": "45d7cf22cee545f09781539476e7eebd",
    "deepnote_cell_type": "markdown"
   }
  },
  {
   "cell_type": "markdown",
   "source": [
    "Let's view the different model internal parameters."
   ],
   "metadata": {
    "cell_id": "44100fffa4b84997b64660dd3d6a6485",
    "formattedRanges": [],
    "deepnote_cell_type": "text-cell-p"
   }
  },
  {
   "cell_type": "code",
   "source": [
    "for name, param in model.named_parameters():\n",
    "    print(f\"{name} : {param}\")"
   ],
   "metadata": {
    "cell_id": "5afc3512af784a5992b744c9da6e57a8",
    "source_hash": "76c5a0db",
    "execution_start": 1680791602871,
    "execution_millis": 0,
    "deepnote_to_be_reexecuted": false,
    "deepnote_cell_type": "code",
    "ExecuteTime": {
     "start_time": "2023-04-06T17:16:22.184751Z",
     "end_time": "2023-04-06T17:16:22.263768Z"
    }
   },
   "outputs": [
    {
     "name": "stdout",
     "output_type": "stream",
     "text": [
      "classifier.0.weight : Parameter containing:\n",
      "tensor([[-0.0279, -0.0162, -0.0124, -0.0358,  0.1257, -0.1584]],\n",
      "       requires_grad=True)\n",
      "classifier.0.bias : Parameter containing:\n",
      "tensor([-0.0073], requires_grad=True)\n"
     ]
    }
   ],
   "execution_count": 46
  },
  {
   "cell_type": "markdown",
   "source": [
    "Here, we implement a fancy bar plot displaying what are the most prominent weights."
   ],
   "metadata": {
    "cell_id": "2ac3eba058084960a2eec03daec9d459",
    "formattedRanges": [],
    "deepnote_cell_type": "text-cell-p"
   }
  },
  {
   "cell_type": "code",
   "source": [
    "def plot_model_parameters(model : LogisticRegression) -> None:\n",
    "    \"\"\"\n",
    "    Plots the features importance of features used in the Logistic Regression model\n",
    "    \n",
    "    :param model: Logistic Regression object used to train the model\n",
    "    :return: None (A plot will be displayed)\n",
    "    \"\"\"\n",
    "\n",
    "    Y = []\n",
    "    for param in model.parameters():\n",
    "        for weight in param:\n",
    "            Y.append(weight.detach().numpy())\n",
    "            break\n",
    "    Y = Y[0]\n",
    "    X = list(range(len(Y)))\n",
    "\n",
    "    fig, ax = plt.subplots()\n",
    "\n",
    "    plt.xlabel(\"Features\")\n",
    "    plt.ylabel(\"Weights\")\n",
    "    plt.title(\"Feature Importance\")\n",
    "    ax.set_xticks(np.arange(6), labels=[\"no_present\", \"exclamation_present\", \"log_word_count\", \"sentiment_array\", \"positive_count\", \"negative_count\"])\n",
    "    plt.xticks(rotation=45)\n",
    "    plt.bar(X, Y)\n",
    "    plt.show()"
   ],
   "metadata": {
    "cell_id": "d8476770cae249db92586281ad5b3df1",
    "source_hash": "4d0f1a84",
    "execution_start": 1680791602871,
    "execution_millis": 44,
    "deepnote_to_be_reexecuted": false,
    "deepnote_cell_type": "code",
    "ExecuteTime": {
     "start_time": "2023-04-06T17:16:22.212437Z",
     "end_time": "2023-04-06T17:16:22.264818Z"
    }
   },
   "outputs": [],
   "execution_count": 47
  },
  {
   "cell_type": "code",
   "source": [
    "plot_model_parameters(model)"
   ],
   "metadata": {
    "cell_id": "3d92cdb4c5d144b5906c31a97c468a8f",
    "source_hash": "6a899225",
    "execution_start": 1680791602914,
    "execution_millis": 332,
    "deepnote_to_be_reexecuted": false,
    "deepnote_cell_type": "code",
    "ExecuteTime": {
     "start_time": "2023-04-06T17:16:22.273742Z",
     "end_time": "2023-04-06T17:16:22.527260Z"
    }
   },
   "outputs": [
    {
     "data": {
      "text/plain": "<Figure size 640x480 with 1 Axes>",
      "image/png": "[encoded data removed]"
     },
     "metadata": {},
     "output_type": "display_data"
    }
   ],
   "execution_count": 48
  },
  {
   "cell_type": "markdown",
   "source": [
    "As we can see, the greatest weights are both word counting features. Positive and negative word count. They affect both classes."
   ],
   "metadata": {
    "cell_id": "c1788f6045cf4c23bc1f2913532af8bf",
    "deepnote_cell_type": "markdown"
   }
  },
  {
   "cell_type": "markdown",
   "source": [
    "_[Bonus] The parameter weight_decay of the SGD optimizer corresponds to the L2 penalty. Try playing with this value and explain how it influence the model's weights._"
   ],
   "metadata": {
    "cell_id": "ee9e47415d3443dc9fb3f2587700261a",
    "deepnote_cell_type": "markdown"
   }
  },
  {
   "cell_type": "markdown",
   "source": [
    "We will iterate over [0.0, 1.0] - 10 times to check the accuracy and model weight evolution."
   ],
   "metadata": {
    "cell_id": "56c18dacc1424d1fa784118cf34cb07f",
    "formattedRanges": [],
    "deepnote_cell_type": "text-cell-p"
   }
  },
  {
   "cell_type": "code",
   "source": [
    "for i in range(0, 10 + 1):\n",
    "    model = LogisticRegression(X_train.shape[1], 1)\n",
    "    criterion = nn.BCEWithLogitsLoss() # Binary cross entropy\n",
    "    # Stochastic gradient descent\n",
    "\n",
    "    weight_decay = i / 10.0\n",
    "\n",
    "    optimizer = torch.optim.SGD(model.parameters(), lr=0.01, weight_decay=weight_decay)\n",
    "    train(False)\n",
    "    print(f\"For weight_decay={weight_decay} :\")\n",
    "    for param in model.parameters():\n",
    "        for weight in param:\n",
    "            print(weight.detach().numpy())\n",
    "            break\n",
    "    test()\n",
    "    "
   ],
   "metadata": {
    "cell_id": "1baa0e4bce1644cdb089ef1122111161",
    "source_hash": "e8c5fdf8",
    "execution_start": 1680791603249,
    "execution_millis": 21506,
    "deepnote_to_be_reexecuted": false,
    "deepnote_cell_type": "code",
    "ExecuteTime": {
     "start_time": "2023-04-06T17:16:22.530776Z",
     "end_time": "2023-04-06T17:17:12.349545Z"
    }
   },
   "outputs": [
    {
     "name": "stdout",
     "output_type": "stream",
     "text": [
      "For weight_decay=0.0 :\n",
      "[ 0.04256584 -0.0232211  -0.2517956  -0.03805368  0.15725334 -0.19587044]\n",
      "-0.014955197\n",
      "0.6884 0.6786 0.69232\n",
      "For weight_decay=0.1 :\n",
      "[-0.02648991 -0.02503067  0.041814   -0.03644375  0.14796579 -0.1852033 ]\n",
      "-0.07448509\n",
      "0.69335 0.6818 0.69508\n",
      "For weight_decay=0.2 :\n",
      "[-0.05835649 -0.02157012  0.00271276 -0.03988391  0.14153053 -0.17614892]\n",
      "-0.027763242\n",
      "0.69335 0.684 0.69572\n",
      "For weight_decay=0.3 :\n",
      "[-0.04089215 -0.01939373 -0.00495326 -0.0409639   0.13577758 -0.1696832 ]\n",
      "-0.008012371\n",
      "0.6938 0.6842 0.69572\n",
      "For weight_decay=0.4 :\n",
      "[-0.03152217 -0.01763469 -0.01037819 -0.03815008  0.13047422 -0.16384688]\n",
      "-0.007661109\n",
      "0.6934 0.6834 0.69532\n",
      "For weight_decay=0.5 :\n",
      "[-0.02847102 -0.01622685 -0.01089516 -0.03655519  0.12572795 -0.1583502 ]\n",
      "-0.0039926395\n",
      "0.69355 0.6838 0.69548\n",
      "For weight_decay=0.6 :\n",
      "[-0.02584398 -0.015063   -0.01050031 -0.03427789  0.12138501 -0.15335774]\n",
      "-0.0048996694\n",
      "0.69305 0.684 0.69536\n",
      "For weight_decay=0.7 :\n",
      "[-0.0224928  -0.01408009 -0.00893397 -0.03246562  0.11742976 -0.14878294]\n",
      "-0.0051607704\n",
      "0.6926 0.6842 0.69472\n",
      "For weight_decay=0.8 :\n",
      "[-0.02039512 -0.01321185 -0.00821514 -0.03080598  0.11379848 -0.14451815]\n",
      "-0.0052521303\n",
      "0.69235 0.6848 0.6948\n",
      "For weight_decay=0.9 :\n",
      "[-0.01856066 -0.01245014 -0.00742422 -0.02938521  0.11045056 -0.14054684]\n",
      "-0.0050086095\n",
      "0.69215 0.6848 0.69508\n",
      "For weight_decay=1.0 :\n",
      "[-0.01713477 -0.01177222 -0.00683577 -0.02807334  0.10734613 -0.13683282]\n",
      "-0.0048213834\n",
      "0.69235 0.6836 0.69532\n"
     ]
    }
   ],
   "execution_count": 49
  },
  {
   "cell_type": "markdown",
   "source": [
    "Increasing weight decay lead to smaller model weights and it doesn't affect accuracy."
   ],
   "metadata": {
    "cell_id": "4cc66c2a50d245e2b7abafaab56ade6d",
    "deepnote_cell_type": "markdown"
   }
  },
  {
   "cell_type": "markdown",
   "source": [
    "_(1 point) Take two wrongly classified samples in the test set and try explaining why the model was wrong._"
   ],
   "metadata": {
    "cell_id": "0bc07c33a12a4a3281347903b9b0e6c0",
    "deepnote_cell_type": "markdown"
   }
  },
  {
   "cell_type": "markdown",
   "source": [
    "We need to use a new and fresh model and train it."
   ],
   "metadata": {
    "cell_id": "65df05f7a7cc4df8aa6a3cb00eb3bbd1",
    "formattedRanges": [],
    "deepnote_cell_type": "text-cell-p"
   }
  },
  {
   "cell_type": "code",
   "source": [
    "model = LogisticRegression(X_train.shape[1], 1)\n",
    "criterion = nn.BCEWithLogitsLoss()  # Binary cross entropy\n",
    "# Stochastic gradient descent\n",
    "\n",
    "weight_decay = i / 10.0\n",
    "\n",
    "optimizer = torch.optim.SGD(model.parameters(), lr=0.01, weight_decay=1.0)\n",
    "train(False); # To avoid print"
   ],
   "metadata": {
    "cell_id": "da889cd82a3044bd8c1d96c0de2a1e86",
    "source_hash": "9da99db7",
    "execution_start": 1680791624775,
    "execution_millis": 1908,
    "deepnote_to_be_reexecuted": false,
    "deepnote_cell_type": "code",
    "ExecuteTime": {
     "start_time": "2023-04-06T17:17:12.317003Z",
     "end_time": "2023-04-06T17:17:17.451107Z"
    }
   },
   "outputs": [],
   "execution_count": 50
  },
  {
   "cell_type": "markdown",
   "source": [
    "Now that its trained we can pick two wrongly classified examples and analyse them."
   ],
   "metadata": {
    "cell_id": "c3a346aa2648467198f1c296e12eebc9",
    "formattedRanges": [],
    "deepnote_cell_type": "text-cell-p"
   }
  },
  {
   "cell_type": "code",
   "source": [
    "test_set = load_dataset('imdb', split=\"test\")\n",
    "test_set = pd.DataFrame(test_set)\n",
    "\n",
    "predicted = np.round(model(X_test).detach().numpy()[:,0]).astype(int)\n",
    "\n",
    "test_set[\"predicted\"] = predicted\n",
    "wrongs = test_set[test_set[\"label\"] != test_set[\"predicted\"]].head(2)\n",
    "\n",
    "for index, data in wrongs.iterrows():\n",
    "    text, label, predicted = data\n",
    "    print(features_vector(text, False, lexicon_dict()))\n",
    "    print(text, label, predicted)"
   ],
   "metadata": {
    "cell_id": "d87839fe0e2340c68b0c4f147c3a67ca",
    "source_hash": "c2115aec",
    "execution_start": 1680791626685,
    "execution_millis": 1005,
    "deepnote_to_be_reexecuted": false,
    "deepnote_cell_type": "code",
    "ExecuteTime": {
     "start_time": "2023-04-06T17:17:17.490696Z",
     "end_time": "2023-04-06T17:17:19.450624Z"
    }
   },
   "outputs": [
    {
     "name": "stderr",
     "output_type": "stream",
     "text": [
      "Found cached dataset imdb (/home/h/.cache/huggingface/datasets/imdb/plain_text/1.0.0/d613c88cf8fa3bab83b4ded3713f1f74830d1100e171db75bbddb80b3345c9c0)\n"
     ]
    },
    {
     "name": "stdout",
     "output_type": "stream",
     "text": [
      "[ 0.          4.          0.          5.37989735 15.         15.        ]\n",
      "Worth the entertainment value of a rental, especially if you like action movies. This one features the usual car chases, fights with the great Van Damme kick style, shooting battles with the 40 shell load shotgun, and even terrorist style bombs. All of this is entertaining and competently handled but there is nothing that really blows you away if you've seen your share before.<br /><br />The plot is made interesting by the inclusion of a rabbit, which is clever but hardly profound. Many of the characters are heavily stereotyped -- the angry veterans, the terrified illegal aliens, the crooked cops, the indifferent feds, the bitchy tough lady station head, the crooked politician, the fat federale who looks like he was typecast as the Mexican in a Hollywood movie from the 1940s. All passably acted but again nothing special.<br /><br />I thought the main villains were pretty well done and fairly well acted. By the end of the movie you certainly knew who the good guys were and weren't. There was an emotional lift as the really bad ones got their just deserts. Very simplistic, but then you weren't expecting Hamlet, right? The only thing I found really annoying was the constant cuts to VDs daughter during the last fight scene.<br /><br />Not bad. Not good. Passable 4. 0 -1\n",
      "[0.         0.         0.         4.89034913 3.         5.        ]\n",
      "its a totally average film with a few semi-alright action sequences that make the plot seem a little better and remind the viewer of the classic van dam films. parts of the plot don't make sense and seem to be added in to use up time. the end plot is that of a very basic type that doesn't leave the viewer guessing and any twists are obvious from the beginning. the end scene with the flask backs don't make sense as they are added in and seem to have little relevance to the history of van dam's character. not really worth watching again, bit disappointed in the end production, even though it is apparent it was shot on a low budget certain shots and sections in the film are of poor directed quality 0 -1\n"
     ]
    }
   ],
   "execution_count": 51
  },
  {
   "cell_type": "markdown",
   "source": [
    "**First error : predicted 1 instead of 0**\n",
    "\n",
    "[0., 3., 1., 4.8978398, 13., 1.]\n",
    "\n",
    "_First off let me say, If you haven't enjoyed a Van Damme movie since bloodsport, you probably will not like this movie. Most of these movies may not have the best plots or best actors but I enjoy these kinds of movies for what they are. This movie is much better than any of the movies the other action guys (Segal and Dolph) have thought about putting out the past few years. Van Damme is good in the movie, the movie is only worth watching to Van Damme fans. It is not as good as Wake of Death (which i highly recommend to anyone of likes Van Damme) or In hell but, in my opinion it's worth watching. It has the same type of feel to it as Nowhere to Run. Good fun stuff!_\n",
    "\n",
    "**The model doesn't understand the context, the reviewer is a hard Van Damne fan, he compares the movie from other Van Damne movies, but relative to any movie he considers it a bad movie.**\n",
    "\n",
    "**Second error : predicted 1 instead of 0**\n",
    "\n",
    "[0., 0., 0., 5.24702407, 11., 2.]\n",
    "\n",
    "_Blind Date (Columbia Pictures, 1934), was a decent film, but I have a few issues with this film. First of all, I don't fault the actors in this film at all, but more or less, I have a problem with the script. Also, I understand that this film was made in the 1930's and people were looking to escape reality, but the script made Ann Sothern's character look weak. She kept going back and forth between suitors and I felt as though she should have stayed with Paul Kelly's character in the end. He truly did care about her and her family and would have done anything for her and he did by giving her up in the end to fickle Neil Hamilton who in my opinion was only out for a good time. Paul Kelly's character, although a workaholic was a man of integrity and truly loved Kitty (Ann Sothern) as opposed to Neil Hamilton, while he did like her a lot, I didn't see the depth of love that he had for her character. The production values were great, but the script could have used a little work._\n",
    "\n",
    "**Same here, the model doesn't understand the context, the reviewer explains the plot and critizes it. However he tries to still recommend the other aspects of the film by using the words \"decent\", \"great\", but overall disliked the movie.**"
   ],
   "metadata": {
    "cell_id": "3d0f0eaa68de487c86b742fa74c98701",
    "deepnote_cell_type": "markdown"
   }
  },
  {
   "cell_type": "markdown",
   "source": [
    "_[Bonus] Train logistic regression classifier using the scikit-learn implementation. How does it compare with the PyTorch version?_"
   ],
   "metadata": {
    "cell_id": "ef9d18240e514d51ad6c63df21ff1f3f",
    "deepnote_cell_type": "markdown"
   }
  },
  {
   "cell_type": "code",
   "source": [
    "from sklearn.linear_model import LogisticRegression\n",
    "from sklearn.metrics import accuracy_score\n",
    "\n",
    "logistic_reg = LogisticRegression()"
   ],
   "metadata": {
    "cell_id": "d273d99ce3034c30bf388913c6cd05f3",
    "source_hash": "95f791ff",
    "execution_start": 1680791627692,
    "execution_millis": 86,
    "deepnote_to_be_reexecuted": false,
    "deepnote_cell_type": "code",
    "ExecuteTime": {
     "start_time": "2023-04-06T17:17:19.454602Z",
     "end_time": "2023-04-06T17:17:19.489048Z"
    }
   },
   "outputs": [],
   "execution_count": 52
  },
  {
   "cell_type": "code",
   "source": [
    "logistic_reg.fit(X_train, y_train)"
   ],
   "metadata": {
    "cell_id": "2349e5ef9924450a9830d20d703f5ca2",
    "source_hash": "3792cd75",
    "execution_start": 1680791627781,
    "execution_millis": 513,
    "deepnote_to_be_reexecuted": false,
    "deepnote_cell_type": "code",
    "ExecuteTime": {
     "start_time": "2023-04-06T17:17:19.464859Z",
     "end_time": "2023-04-06T17:17:19.715217Z"
    }
   },
   "outputs": [
    {
     "name": "stderr",
     "output_type": "stream",
     "text": [
      "/home/h/.virtualenvs/nlp1-lab03/lib64/python3.11/site-packages/sklearn/utils/validation.py:1143: DataConversionWarning: A column-vector y was passed when a 1d array was expected. Please change the shape of y to (n_samples, ), for example using ravel().\n",
      "  y = column_or_1d(y, warn=True)\n"
     ]
    },
    {
     "data": {
      "text/plain": "LogisticRegression()",
      "text/html": "<style>#sk-container-id-3 {color: black;background-color: white;}#sk-container-id-3 pre{padding: 0;}#sk-container-id-3 div.sk-toggleable {background-color: white;}#sk-container-id-3 label.sk-toggleable__label {cursor: pointer;display: block;width: 100%;margin-bottom: 0;padding: 0.3em;box-sizing: border-box;text-align: center;}#sk-container-id-3 label.sk-toggleable__label-arrow:before {content: \"▸\";float: left;margin-right: 0.25em;color: #696969;}#sk-container-id-3 label.sk-toggleable__label-arrow:hover:before {color: black;}#sk-container-id-3 div.sk-estimator:hover label.sk-toggleable__label-arrow:before {color: black;}#sk-container-id-3 div.sk-toggleable__content {max-height: 0;max-width: 0;overflow: hidden;text-align: left;background-color: #f0f8ff;}#sk-container-id-3 div.sk-toggleable__content pre {margin: 0.2em;color: black;border-radius: 0.25em;background-color: #f0f8ff;}#sk-container-id-3 input.sk-toggleable__control:checked~div.sk-toggleable__content {max-height: 200px;max-width: 100%;overflow: auto;}#sk-container-id-3 input.sk-toggleable__control:checked~label.sk-toggleable__label-arrow:before {content: \"▾\";}#sk-container-id-3 div.sk-estimator input.sk-toggleable__control:checked~label.sk-toggleable__label {background-color: #d4ebff;}#sk-container-id-3 div.sk-label input.sk-toggleable__control:checked~label.sk-toggleable__label {background-color: #d4ebff;}#sk-container-id-3 input.sk-hidden--visually {border: 0;clip: rect(1px 1px 1px 1px);clip: rect(1px, 1px, 1px, 1px);height: 1px;margin: -1px;overflow: hidden;padding: 0;position: absolute;width: 1px;}#sk-container-id-3 div.sk-estimator {font-family: monospace;background-color: #f0f8ff;border: 1px dotted black;border-radius: 0.25em;box-sizing: border-box;margin-bottom: 0.5em;}#sk-container-id-3 div.sk-estimator:hover {background-color: #d4ebff;}#sk-container-id-3 div.sk-parallel-item::after {content: \"\";width: 100%;border-bottom: 1px solid gray;flex-grow: 1;}#sk-container-id-3 div.sk-label:hover label.sk-toggleable__label {background-color: #d4ebff;}#sk-container-id-3 div.sk-serial::before {content: \"\";position: absolute;border-left: 1px solid gray;box-sizing: border-box;top: 0;bottom: 0;left: 50%;z-index: 0;}#sk-container-id-3 div.sk-serial {display: flex;flex-direction: column;align-items: center;background-color: white;padding-right: 0.2em;padding-left: 0.2em;position: relative;}#sk-container-id-3 div.sk-item {position: relative;z-index: 1;}#sk-container-id-3 div.sk-parallel {display: flex;align-items: stretch;justify-content: center;background-color: white;position: relative;}#sk-container-id-3 div.sk-item::before, #sk-container-id-3 div.sk-parallel-item::before {content: \"\";position: absolute;border-left: 1px solid gray;box-sizing: border-box;top: 0;bottom: 0;left: 50%;z-index: -1;}#sk-container-id-3 div.sk-parallel-item {display: flex;flex-direction: column;z-index: 1;position: relative;background-color: white;}#sk-container-id-3 div.sk-parallel-item:first-child::after {align-self: flex-end;width: 50%;}#sk-container-id-3 div.sk-parallel-item:last-child::after {align-self: flex-start;width: 50%;}#sk-container-id-3 div.sk-parallel-item:only-child::after {width: 0;}#sk-container-id-3 div.sk-dashed-wrapped {border: 1px dashed gray;margin: 0 0.4em 0.5em 0.4em;box-sizing: border-box;padding-bottom: 0.4em;background-color: white;}#sk-container-id-3 div.sk-label label {font-family: monospace;font-weight: bold;display: inline-block;line-height: 1.2em;}#sk-container-id-3 div.sk-label-container {text-align: center;}#sk-container-id-3 div.sk-container {/* jupyter's `normalize.less` sets `[hidden] { display: none; }` but bootstrap.min.css set `[hidden] { display: none !important; }` so we also need the `!important` here to be able to override the default hidden behavior on the sphinx rendered scikit-learn.org. See: https://github.com/scikit-learn/scikit-learn/issues/21755 */display: inline-block !important;position: relative;}#sk-container-id-3 div.sk-text-repr-fallback {display: none;}</style><div id=\"sk-container-id-3\" class=\"sk-top-container\"><div class=\"sk-text-repr-fallback\"><pre>LogisticRegression()</pre><b>In a Jupyter environment, please rerun this cell to show the HTML representation or trust the notebook. <br />On GitHub, the HTML representation is unable to render, please try loading this page with nbviewer.org.</b></div><div class=\"sk-container\" hidden><div class=\"sk-item\"><div class=\"sk-estimator sk-toggleable\"><input class=\"sk-toggleable__control sk-hidden--visually\" id=\"sk-estimator-id-3\" type=\"checkbox\" checked><label for=\"sk-estimator-id-3\" class=\"sk-toggleable__label sk-toggleable__label-arrow\">LogisticRegression</label><div class=\"sk-toggleable__content\"><pre>LogisticRegression()</pre></div></div></div></div></div>"
     },
     "execution_count": 53,
     "metadata": {},
     "output_type": "execute_result"
    }
   ],
   "execution_count": 53
  },
  {
   "cell_type": "code",
   "source": [
    "preds = logistic_reg.predict(X_valid)"
   ],
   "metadata": {
    "cell_id": "62a524224504402da977850eef680726",
    "source_hash": "7b762f85",
    "execution_start": 1680791628383,
    "execution_millis": 9,
    "deepnote_to_be_reexecuted": false,
    "deepnote_cell_type": "code",
    "ExecuteTime": {
     "start_time": "2023-04-06T17:17:19.641677Z",
     "end_time": "2023-04-06T17:17:19.718088Z"
    }
   },
   "outputs": [],
   "execution_count": 54
  },
  {
   "cell_type": "code",
   "source": [
    "accuracy_score(y_valid, preds)"
   ],
   "metadata": {
    "cell_id": "7034cf55161a4e3dab2855ba6a6e78a7",
    "source_hash": "e3431729",
    "execution_start": 1680791628397,
    "execution_millis": 96,
    "deepnote_to_be_reexecuted": false,
    "deepnote_cell_type": "code",
    "ExecuteTime": {
     "start_time": "2023-04-06T17:17:19.658000Z",
     "end_time": "2023-04-06T17:17:19.747254Z"
    }
   },
   "outputs": [
    {
     "data": {
      "text/plain": "0.6816"
     },
     "execution_count": 55,
     "metadata": {},
     "output_type": "execute_result"
    }
   ],
   "execution_count": 55
  },
  {
   "cell_type": "markdown",
   "source": [
    "The accuracy 0.68 is the same as with the torch Logistic Regression compared with a really consise code, thanks to the sklearn's API."
   ],
   "metadata": {
    "cell_id": "121b0259b333468a877b364291fb4b3b",
    "deepnote_cell_type": "markdown"
   }
  }
 ],
 "nbformat": 4,
 "nbformat_minor": 0,
 "metadata": {
  "deepnote": {},
  "orig_nbformat": 2,
  "deepnote_app_layout": "article",
  "deepnote_notebook_id": "b093c69df98e4cc3af9bad70f7004d94",
  "deepnote_execution_queue": [],
  "kernelspec": {
   "name": "python3",
   "language": "python",
   "display_name": "Python 3 (ipykernel)"
  }
 }
}
